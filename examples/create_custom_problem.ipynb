{
 "cells": [
  {
   "cell_type": "markdown",
   "metadata": {
    "colab": {
     "base_uri": "https://localhost:8080/"
    },
    "id": "introduction"
   },
   "source": [
    "# Creating custom MDP problems in MDPax\n",
    "\n",
    "[![Open In Colab](https://colab.research.google.com/assets/colab-badge.svg)](https://colab.research.google.com/github/joefarrington/mdpax/blob/main/examples/create_custom_problem.ipynb)\n",
    "\n",
    "\n",
    "This tutorial shows how to implement your own Markov Decision Process (MDP) problems using MDPax. We'll implement the classic FrozenLake environment, which is a well-known example from [OpenAI's Gym/Gymnasium](https://gymnasium.farama.org/environments/toy_text/frozen_lake/).\n",
    "\n",
    "## Prerequisites\n",
    "\n",
    "Before getting started, you might find these resources helpful if you're unfamiliar with either JAX or MDPs. \n",
    "\n",
    "### JAX Background\n",
    "\n",
    "- [JAX Quickstart](https://jax.readthedocs.io/en/latest/notebooks/quickstart.html)\n",
    "- [JAX Tutorial](https://jax.readthedocs.io/en/latest/jax-101/index.html)\n",
    "- 📺 [Machine Learning with JAX - From Zero to Hero | Aleksa Gordić](https://www.youtube.com/watch?v=SstuvS-tVc0)\n",
    "\n",
    "### MDP Background\n",
    "\n",
    "- [Reinforcement Learning: An Introduction - Chapter 3 | Sutton & Barto](http://incompleteideas.net/book/RLbook2020.pdf)\n",
    "- 📺 [Markov Decision Processes 1 - Value Iteration | Stanford CS221](https://www.youtube.com/watch?v=9g32v7bK3Co)\n",
    "\n",
    "\n",
    "## MDPax Problem class\n",
    "\n",
    "The `Problem` class is used to represent MDPs in MDPax. As described in the [Getting Started] notebook, it uses a functional approach to describe the MDP instead of explicitly creating transition and reward matrices. \n",
    "\n",
    "When creating a subclass of `Problem` to represent your own MDP, you will need to define an `__init__` method and the following methods marked as `@abstractmethods` in the `Problem` class:\n",
    "\n",
    "* `name`: A unique string identifier for the MDP\n",
    "* `_construct_state_space`: A helper function that builds an array of all possible states, with dimensions [n_states, state_dim]\n",
    "* `state_to_index`: A function that maps from a state vector to its index in the state space array\n",
    "* `_construct_action_space`: A helper function that builds an array of all possible actions, with dimensions [n_actions, action_dim]\n",
    "* `_construct_random_event_space`: A helper function that builds an array of all possible random events, with dimensions [n_events, event_dim]\n",
    "* `random_event_probability`: A function that returns the probability of a random event given a state and action\n",
    "* `transition`: A function that returns the next state and reward given a state, action, and random event. \n",
    "\n",
    "See the MDPax documentation [LINK TO DO] for detailed information about the `Problem` class.\n",
    "\n",
    "In this notebook we'll walk through implementing each of those methods for the FrozenLake problem. \n",
    "\n",
    "## FrozenLake\n",
    "\n",
    "In FrozenLake, an agent must navigate from start (S) to goal (G) on a frozen lake surface (F), avoiding holes in the ice (H).\n",
    "\n",
    "The default 4x4 map looks like this:\n",
    "```\n",
    "SFFF\n",
    "FHFH\n",
    "FFFH\n",
    "HFFG\n",
    "``` \n",
    "\n",
    "The surface can be slippery, making movement stochastic: when the agent chooses a direction, they may instead slide perpendicular to their intended direction."
   ]
  },
  {
   "cell_type": "code",
   "execution_count": 1,
   "metadata": {
    "id": "setup"
   },
   "outputs": [],
   "source": [
    "import sys\n",
    "\n",
    "try:\n",
    "    # Other dependencies will be installed on Colab already\n",
    "    import mdptoolbox\n",
    "\n",
    "    import mdpax\n",
    "except ImportError:\n",
    "    if 'google.colab' in sys.modules:\n",
    "        # Automatically install mdpax if running in Colab, environment is temporary\n",
    "        !pip install mdpax mdptoolbox matplotlib\n",
    "    else:\n",
    "        print(\"Dependencies not installed. Please follow the installation instructions in the README: https://github.com/joefarrington/mdpax\")"
   ]
  },
  {
   "cell_type": "code",
   "execution_count": 2,
   "metadata": {
    "id": "imports"
   },
   "outputs": [],
   "source": [
    "import jax\n",
    "import jax.numpy as jnp\n",
    "import matplotlib.pyplot as plt\n",
    "import mdptoolbox\n",
    "import numpy as np\n",
    "\n",
    "from mdpax.core.problem import Problem\n",
    "from mdpax.utils.spaces import create_range_space\n",
    "from mdpax.utils.types import (\n",
    "    ActionSpace,\n",
    "    ActionVector,\n",
    "    Policy,\n",
    "    RandomEventSpace,\n",
    "    RandomEventVector,\n",
    "    Reward,\n",
    "    StateSpace,\n",
    "    StateVector,\n",
    ")"
   ]
  },
  {
   "cell_type": "markdown",
   "metadata": {
    "id": "problem_intro"
   },
   "source": [
    "## 1 Step-by-step Problem definition\n",
    "\n",
    "First, we'll create our `FrozenLake` class that inherits from `mdpax.core.problem.Problem`. \n",
    "The base class handles much of the boilerplate, we just need to implement the required methods.\n",
    "\n",
    "In order to avoid duplication in the notebook, each part of the step-by-step definition inherits from the previous one, building up the class definition. All the cells in Part 1 therefore need to be run in order. To see the full class definition rather than working through the methods one by one you can skip ahead to [Part 2](##-2-Putting-it-all-together). "
   ]
  },
  {
   "cell_type": "markdown",
   "metadata": {},
   "source": [
    "### 1.1 The `__init__` method and config class"
   ]
  },
  {
   "cell_type": "markdown",
   "metadata": {},
   "source": [
    "We'll start with an outline of the class, with a placeholder for each method, and fill in the `__init__` method. We use some custom types in the function signature, which are defined in [mdpax/utils/typing][LINK TO DO]. \n",
    "\n",
    "Following the `gym` implementation, we need to support three arguments:\n",
    "* `desc`: A custom map\n",
    "* `map_name`: A key for a map in the dictionary of known maps `MAPS`\n",
    "* `is_slippery`: Whether the lake is slippery or not\n",
    "\n",
    "We'll comment out `super().__init__()` for now because it performs some setup procedures that rely on all the methods being defined and we are implementing them one by one."
   ]
  },
  {
   "cell_type": "code",
   "execution_count": 3,
   "metadata": {},
   "outputs": [],
   "source": [
    "# Dictionary of known maps\n",
    "# From https://github.com/openai/gym/blob/master/gym/envs/toy_text/frozen_lake.py\n",
    "MAPS = {\n",
    "    \"4x4\": [\"SFFF\", \"FHFH\", \"FFFH\", \"HFFG\"],\n",
    "    \"8x8\": [\n",
    "        \"SFFFFFFF\",\n",
    "        \"FFFFFFFF\",\n",
    "        \"FFFHFFFF\",\n",
    "        \"FFFFFHFF\",\n",
    "        \"FFFHFFFF\",\n",
    "        \"FHHFFFHF\",\n",
    "        \"FHFFHFHF\",\n",
    "        \"FFFHFFFG\",\n",
    "    ],\n",
    "}"
   ]
  },
  {
   "cell_type": "code",
   "execution_count": 4,
   "metadata": {},
   "outputs": [],
   "source": [
    "class FrozenLake(Problem):\n",
    "    \"\"\"FrozenLake MDP from OpenAI Gym.\n",
    "\n",
    "    Models navigation on a grid world with slippery movement.\n",
    "    \n",
    "    The agent must navigate from start (S) to goal (G) on a frozen lake surface (F)\n",
    "    where the surface is slippery and there are holes (H) that end the episode. \n",
    "    \n",
    "    Example 4x4 map:\n",
    "    SFFF\n",
    "    FHFH\n",
    "    FFFH\n",
    "    HFFG\n",
    "\n",
    "    State Space (state_dim = 2):\n",
    "        Vector containing:\n",
    "        - Row: 1 element in range [0, n_rows-1]\n",
    "        - Column: 1 element in range [0, n_cols-1]\n",
    "\n",
    "    Action Space (action_dim = 1):\n",
    "        Vector containing:\n",
    "        - Intended movement direction: 1 element in range [0, 3]\n",
    "            where:\n",
    "            - 0: LEFT\n",
    "            - 1: DOWN\n",
    "            - 2: RIGHT\n",
    "            - 3: UP\n",
    "\n",
    "    Random Events (event_dim = 1):\n",
    "        Vector containing:\n",
    "        - Actual movement direction: 1 element in range [0, 3]\n",
    "\n",
    "    Dynamics:\n",
    "        1. The agent chooses an intended movement direction\n",
    "        2. The agent moves in the actual direction.\n",
    "            - If the surface is not slippery, the agent moves in the intended direction.\n",
    "            - If the surface is slippery, the agent has a 1/3 probability of moving\n",
    "                in the intended direction, a 1/3 probability of moving in the \n",
    "                direction to the left of the intended direction, and a 1/3 \n",
    "                probability of moving in the direction to the right of the intended \n",
    "                direction.\n",
    "        3. The episode ends when the agent reaches the goal or falls into a hole\n",
    "    \n",
    "    Args:\n",
    "        desc: Custom map layout as list of strings\n",
    "        map_name: Key for a map in the dictionary of known maps `MAPS`\n",
    "        is_slippery: If True, the movement direction is stochastic\n",
    "    \"\"\"\n",
    "    def __init__(\n",
    "        self, \n",
    "        desc: list[str] | None = None,\n",
    "        map_name: str = \"4x4\",\n",
    "        is_slippery: bool = True,\n",
    "    ):\n",
    "        self.desc = desc\n",
    "        self.map_name = map_name\n",
    "        self.is_slippery = is_slippery\n",
    "\n",
    "        # Use a custom map if provided\n",
    "        if desc is not None:\n",
    "            self.map = desc\n",
    "        else:\n",
    "            self.map = MAPS[map_name]\n",
    "\n",
    "        # Convert map to array for efficient lookup\n",
    "        # Needs to be numeric so use 1 for hole and 2 for goal\n",
    "        # 0 for frozen surface\n",
    "        self.grid = jnp.array([\n",
    "            [1 if c == 'H' else 2 if c == 'G' else 0 \n",
    "             for c in row]\n",
    "            for row in self.map\n",
    "        ])\n",
    "        self.n_rows, self.n_cols = self.grid.shape\n",
    "        \n",
    "        # This relies on all the methods being defined, so\n",
    "        # comment out until class complete\n",
    "        #super().__init__()\n",
    "    \n",
    "    @property\n",
    "    def name(self) -> str:\n",
    "        \"\"\"Unique identifier for this problem type.\"\"\"\n",
    "        pass\n",
    "    \n",
    "    def _construct_state_space(self) -> StateSpace:\n",
    "        \"\"\"Build array of all possible states.\n",
    "\n",
    "        Returns:\n",
    "            Array of shape [n_states, state_dim] containing all possible states\n",
    "        \"\"\"\n",
    "        pass\n",
    "\n",
    "    def state_to_index(self, state: StateVector) -> int:\n",
    "        \"\"\"Convert state vector to index.\n",
    "\n",
    "        Args:\n",
    "            state: Vector representation of a state [state_dim]\n",
    "\n",
    "        Returns:\n",
    "            Index of the state in state_space\n",
    "\n",
    "        Note:\n",
    "            This mapping must be consistent with the ordering in state_space\n",
    "        \"\"\"\n",
    "        pass\n",
    "    \n",
    "    def _construct_action_space(self) -> ActionSpace:\n",
    "        \"\"\"Build an array of all possible actions.\n",
    "\n",
    "        Returns:\n",
    "            Array of shape [n_actions, action_dim] containing all possible actions\n",
    "        \"\"\"\n",
    "        pass\n",
    "    \n",
    "    def _construct_random_event_space(self) -> RandomEventSpace:\n",
    "        \"\"\"Build an array of all possible random events.\n",
    "\n",
    "        Returns:\n",
    "            Array of shape [n_events, event_dim] containing all possible random events\n",
    "        \"\"\"\n",
    "        pass\n",
    "    \n",
    "    def random_event_probability(\n",
    "        self,\n",
    "        state: StateVector,\n",
    "        action: ActionVector,\n",
    "        random_event: RandomEventVector\n",
    "    ) -> float:\n",
    "        \"\"\"Calculate probability of random event given state-action pair.\n",
    "\n",
    "        Args:\n",
    "            state: Current state vector [state_dim]\n",
    "            action: Action vector [action_dim]\n",
    "            random_event: Random event vector [event_dim]\n",
    "\n",
    "        Returns:\n",
    "            Probability of the random event occurring\n",
    "        \"\"\"\n",
    "        pass\n",
    "\n",
    "    def transition(\n",
    "    self,\n",
    "    state: StateVector,\n",
    "    action: ActionVector,\n",
    "    random_event: RandomEventVector\n",
    "    ) -> tuple[StateVector, Reward]:\n",
    "        \"\"\"Compute next state and reward for a transition.\n",
    "\n",
    "        Args:\n",
    "            state: Current state vector [state_dim]\n",
    "            action: Action vector [action_dim]\n",
    "            random_event: Random event vector [event_dim]\n",
    "\n",
    "        Returns:\n",
    "            Tuple containing the next state vector [state_dim] and\n",
    "            the immediate reward\n",
    "        \"\"\"\n",
    "        pass"
   ]
  },
  {
   "cell_type": "markdown",
   "metadata": {},
   "source": [
    "Now we can create an instance using the 4x4 map with slippery movement:"
   ]
  },
  {
   "cell_type": "code",
   "execution_count": 5,
   "metadata": {},
   "outputs": [],
   "source": [
    "problem = FrozenLake(map_name=\"4x4\", is_slippery=True)"
   ]
  },
  {
   "cell_type": "code",
   "execution_count": 6,
   "metadata": {},
   "outputs": [
    {
     "data": {
      "text/plain": [
       "Array([[0, 0, 0, 0],\n",
       "       [0, 1, 0, 1],\n",
       "       [0, 0, 0, 1],\n",
       "       [1, 0, 0, 2]], dtype=int32)"
      ]
     },
     "execution_count": 6,
     "metadata": {},
     "output_type": "execute_result"
    }
   ],
   "source": [
    "problem.grid"
   ]
  },
  {
   "cell_type": "markdown",
   "metadata": {},
   "source": [
    "### 1.2 The `name` property"
   ]
  },
  {
   "cell_type": "markdown",
   "metadata": {},
   "source": [
    "The `name` property is used to set a checkpoint directory when one is not provided. It can therefore be a name for any problem represented by the class or, as here, provide some information about the input settings."
   ]
  },
  {
   "cell_type": "code",
   "execution_count": 7,
   "metadata": {},
   "outputs": [],
   "source": [
    "class FrozenLake(FrozenLake):\n",
    "    @property\n",
    "    def name(self) -> str:\n",
    "        \"\"\"Unique identifier for this problem type.\"\"\"\n",
    "        s = \"slippery\" if self.is_slippery else \"non_slippery\"\n",
    "        if self.desc is not None:\n",
    "            return f\"frozen_lake_custom_{s}\"\n",
    "        else:\n",
    "            return f\"frozen_lake_{self.map_name}_{s}\""
   ]
  },
  {
   "cell_type": "code",
   "execution_count": 8,
   "metadata": {},
   "outputs": [
    {
     "data": {
      "text/plain": [
       "'frozen_lake_4x4_slippery'"
      ]
     },
     "execution_count": 8,
     "metadata": {},
     "output_type": "execute_result"
    }
   ],
   "source": [
    "problem = FrozenLake(map_name=\"4x4\", is_slippery=True)\n",
    "problem.name"
   ]
  },
  {
   "cell_type": "markdown",
   "metadata": {},
   "source": [
    "### 1.3 The `_construct_state_space` and `state_to_index` methods"
   ]
  },
  {
   "cell_type": "markdown",
   "metadata": {},
   "source": [
    "In MDPax, the `state_space` for a problem is a 2D array that contains every possible state for the MDP. Each row is a vector representing one state. This helper method is called when the class is instantiated, and builds the `state_space` array. \n",
    "\n",
    "The `state_to_index` method converts a state vector to its index in the `state_space`. The array representing the value function uses the same ordering as the `state_space` and therefore this is used to, for example, find the value of the next state during value iteration. The `transition` function returns a state vector, the index of that state is found using `state_to_index`, and then the value of the next state is identified by looking up that element in the array of values. \n",
    "\n",
    "In this problem, the state vector has two components: the row and column of the gridworld. All of the states between the bounds (0 and n_rows - 1 and 0 and n_columns - 1, for the two dimensions of our state) are valid and therefore we can use the MDPax helper function `create_range_space` to build the state space and a method to extract the index for a state."
   ]
  },
  {
   "cell_type": "code",
   "execution_count": 9,
   "metadata": {},
   "outputs": [],
   "source": [
    "class FrozenLake(FrozenLake):\n",
    "    def _construct_state_space(self) -> StateSpace:\n",
    "        \"\"\"Build array of all possible states.\n",
    "\n",
    "        Returns:\n",
    "            Array of shape [n_states, state_dim] containing all possible states\n",
    "        \"\"\"\n",
    "        mins = np.zeros(2, dtype=np.int32)\n",
    "        maxs = np.array([self.n_rows-1, self.n_cols-1], dtype=np.int32)\n",
    "        state_space, self._state_to_index_fn = create_range_space(mins, maxs)\n",
    "        return state_space\n",
    "    \n",
    "    \n",
    "    def state_to_index(self, state: StateVector) -> int:\n",
    "        \"\"\"Convert state vector to index.\"\"\"\n",
    "        return self._state_to_index_fn(state)"
   ]
  },
  {
   "cell_type": "code",
   "execution_count": 10,
   "metadata": {},
   "outputs": [
    {
     "data": {
      "text/plain": [
       "Array([[0, 0],\n",
       "       [0, 1],\n",
       "       [0, 2],\n",
       "       [0, 3],\n",
       "       [1, 0],\n",
       "       [1, 1],\n",
       "       [1, 2],\n",
       "       [1, 3],\n",
       "       [2, 0],\n",
       "       [2, 1],\n",
       "       [2, 2],\n",
       "       [2, 3],\n",
       "       [3, 0],\n",
       "       [3, 1],\n",
       "       [3, 2],\n",
       "       [3, 3]], dtype=int32)"
      ]
     },
     "execution_count": 10,
     "metadata": {},
     "output_type": "execute_result"
    }
   ],
   "source": [
    "problem = FrozenLake(map_name=\"4x4\", is_slippery=True)\n",
    "problem._construct_state_space() # 16 states for the (4x4) grid"
   ]
  },
  {
   "cell_type": "code",
   "execution_count": 11,
   "metadata": {},
   "outputs": [
    {
     "data": {
      "text/plain": [
       "Array(0, dtype=int32)"
      ]
     },
     "execution_count": 11,
     "metadata": {},
     "output_type": "execute_result"
    }
   ],
   "source": [
    "problem.state_to_index(jnp.array([0, 0]))"
   ]
  },
  {
   "cell_type": "code",
   "execution_count": 12,
   "metadata": {},
   "outputs": [
    {
     "data": {
      "text/plain": [
       "Array(7, dtype=int32)"
      ]
     },
     "execution_count": 12,
     "metadata": {},
     "output_type": "execute_result"
    }
   ],
   "source": [
    "problem.state_to_index(jnp.array([1, 3]))"
   ]
  },
  {
   "cell_type": "code",
   "execution_count": 13,
   "metadata": {},
   "outputs": [
    {
     "data": {
      "text/plain": [
       "Array(15, dtype=int32)"
      ]
     },
     "execution_count": 13,
     "metadata": {},
     "output_type": "execute_result"
    }
   ],
   "source": [
    "problem.state_to_index(jnp.array([3, 3]))"
   ]
  },
  {
   "cell_type": "markdown",
   "metadata": {},
   "source": [
    "### 1.4 The `_construct_action_space` method"
   ]
  },
  {
   "cell_type": "markdown",
   "metadata": {},
   "source": [
    "The `action_space` is a 2D array containing every possible action. Each row is a vector representing one action. This helper method is called when the class is instantiated, and builds the `action_space` array. \n",
    "\n",
    "In this problem, the action vector has one component: an integer representing the intended direction of movement. We reshape the array to [n_actions, 1] so that we have a 2D array which is expected by MDPax for all problems."
   ]
  },
  {
   "cell_type": "code",
   "execution_count": 14,
   "metadata": {},
   "outputs": [],
   "source": [
    "class FrozenLake(FrozenLake):\n",
    "    def _construct_action_space(self) -> ActionSpace:\n",
    "        \"\"\"Build an array of all possible actions.\n",
    "\n",
    "        Returns:\n",
    "            Array of shape [n_actions, action_dim] containing all possible actions\n",
    "        \"\"\"\n",
    "        # One action for each direction\n",
    "        return jnp.arange(4).reshape(-1, 1)"
   ]
  },
  {
   "cell_type": "markdown",
   "metadata": {},
   "source": [
    "Problem characteristics do not change the action space"
   ]
  },
  {
   "cell_type": "code",
   "execution_count": 15,
   "metadata": {},
   "outputs": [
    {
     "data": {
      "text/plain": [
       "Array([[0],\n",
       "       [1],\n",
       "       [2],\n",
       "       [3]], dtype=int32)"
      ]
     },
     "execution_count": 15,
     "metadata": {},
     "output_type": "execute_result"
    }
   ],
   "source": [
    "problem = FrozenLake(map_name=\"4x4\", is_slippery=True)\n",
    "problem._construct_action_space()"
   ]
  },
  {
   "cell_type": "code",
   "execution_count": 16,
   "metadata": {},
   "outputs": [
    {
     "data": {
      "text/plain": [
       "Array([[0],\n",
       "       [1],\n",
       "       [2],\n",
       "       [3]], dtype=int32)"
      ]
     },
     "execution_count": 16,
     "metadata": {},
     "output_type": "execute_result"
    }
   ],
   "source": [
    "problem = FrozenLake(map_name=\"4x4\", is_slippery=False)\n",
    "problem._construct_action_space()"
   ]
  },
  {
   "cell_type": "markdown",
   "metadata": {},
   "source": [
    "### 1.5 The `_construct_random_event_space` method"
   ]
  },
  {
   "cell_type": "markdown",
   "metadata": {},
   "source": [
    "MDP transitions may be stochastic, and MDPax handles this using `random_event_space`, a 2D array containing every possible random event. The `transition` function is deterministic given a state, action and random event. \n",
    "\n",
    "Each row is a vector representing one random event. This helper method is called when the class is instantiated, and builds the `random_event_space` array. \n",
    "\n",
    "In this problem, the random event vector has one component: an integer representing the actual direction of movement. We reshape the array to [n_events, 1] so that we have a 2D array which is expected by MDPax for all problems."
   ]
  },
  {
   "cell_type": "code",
   "execution_count": 17,
   "metadata": {},
   "outputs": [],
   "source": [
    "class FrozenLake(FrozenLake):\n",
    "    def _construct_random_event_space(self) -> RandomEventSpace:\n",
    "        \"\"\"Build an array of all possible random events.\n",
    "\n",
    "        Returns:\n",
    "            Array of shape [n_events, event_dim] containing all possible random events\n",
    "        \"\"\"\n",
    "        return jnp.arange(4).reshape(-1, 1)"
   ]
  },
  {
   "cell_type": "markdown",
   "metadata": {},
   "source": [
    "Problem characteristics do not change the random event space"
   ]
  },
  {
   "cell_type": "code",
   "execution_count": 18,
   "metadata": {},
   "outputs": [
    {
     "data": {
      "text/plain": [
       "Array([[0],\n",
       "       [1],\n",
       "       [2],\n",
       "       [3]], dtype=int32)"
      ]
     },
     "execution_count": 18,
     "metadata": {},
     "output_type": "execute_result"
    }
   ],
   "source": [
    "problem = FrozenLake(map_name=\"4x4\", is_slippery=True)\n",
    "problem._construct_random_event_space()"
   ]
  },
  {
   "cell_type": "code",
   "execution_count": 19,
   "metadata": {},
   "outputs": [
    {
     "data": {
      "text/plain": [
       "Array([[0],\n",
       "       [1],\n",
       "       [2],\n",
       "       [3]], dtype=int32)"
      ]
     },
     "execution_count": 19,
     "metadata": {},
     "output_type": "execute_result"
    }
   ],
   "source": [
    "problem = FrozenLake(map_name=\"8x8\", is_slippery=True)\n",
    "problem._construct_random_event_space()"
   ]
  },
  {
   "cell_type": "markdown",
   "metadata": {},
   "source": [
    "### 1.6 The `random_event_probability` method"
   ]
  },
  {
   "cell_type": "markdown",
   "metadata": {},
   "source": [
    "This method returns the probability of a specific random event when in a state and taking an action. \n",
    "\n",
    "When used with an MDPAX `Solver` class, both  `random_event_probability` and `transition` will be JIT compiled and transformed by JAX's `vmap`/`pmap` transformations to efficiently run on GPUs. This means they must be written using JAX array operations and avoid, for example, Python control flow which does not work with JIT. See the tutorials in the [JAX documention](https://jax.readthedocs.io/en/latest/tutorials.html) for more information, specifically the sections on [JIT compilation](https://jax.readthedocs.io/en/latest/jit-compilation.html) and ['The Sharp Bits'](https://jax.readthedocs.io/en/latest/notebooks/Common_Gotchas_in_JAX.html) for common issues. \n",
    "\n",
    "In this case, the probability depends on whether the lake is slippery or not, so we will write two helper functions - one to use when the lake is slippery and one when it isn't - to simplify the logic."
   ]
  },
  {
   "cell_type": "code",
   "execution_count": 20,
   "metadata": {},
   "outputs": [],
   "source": [
    "class FrozenLake(FrozenLake):\n",
    "\n",
    "    def random_event_probability(\n",
    "        self,\n",
    "        state: StateVector,\n",
    "        action: ActionVector,\n",
    "        random_event: RandomEventVector\n",
    "    ) -> float:\n",
    "        \"\"\"Calculate probability of random event given state-action pair.\n",
    "\n",
    "        Args:\n",
    "            state: Current state vector [state_dim]\n",
    "            action: Action vector [action_dim]\n",
    "            random_event: Random event vector [event_dim]\n",
    "\n",
    "        Returns:\n",
    "            Probability of the random event occurring\n",
    "        \"\"\"\n",
    "        # Instead of using Python control flow, we use JAX's lax.cond function to\n",
    "        # select the correct function to call based on whether the lake is slippery or not.\n",
    "        # This takes the form jnp.lax.cond(condition, true_fn, false_fn, *operands)\n",
    "        \n",
    "        return jax.lax.cond(self.is_slippery, \n",
    "                         self._random_event_probability_slippery,\n",
    "                         self._random_event_probability_not_slippery, state, action, random_event)\n",
    "\n",
    "\n",
    "    def _random_event_probability_slippery(self, state: StateVector, \n",
    "                                           action: ActionVector, \n",
    "                                           random_event: RandomEventVector) -> float:\n",
    "        \"\"\"Calculate probability of random event given state-action pair when the lake is slippery.\"\"\"\n",
    "        intended_direction = action[0]\n",
    "        opposite_direction = (intended_direction + 2) % 4\n",
    "        # 1/3 prob of each direction except opposite intended\n",
    "\n",
    "        # jnp.where is like numpy.where but for JAX arrays\n",
    "        # creates an array of 4 elements, 1/3 for each direction except opposite intended\n",
    "        probs = jnp.where(jnp.arange(4) == opposite_direction, 0, 1/3)\n",
    "        return probs[random_event[0]]\n",
    "\n",
    "    def _random_event_probability_not_slippery(self, state: StateVector, \n",
    "                                               action: ActionVector, \n",
    "                                               random_event: RandomEventVector) -> float:\n",
    "        \"\"\"Calculate probability of random event given state-action pair when the lake is not slippery.\"\"\"\n",
    "        # Probability of intended direction is 1.0\n",
    "        return jnp.where(action[0] == random_event[0], 1.0, 0.0)"
   ]
  },
  {
   "cell_type": "markdown",
   "metadata": {},
   "source": [
    "Try when the lake is slippery"
   ]
  },
  {
   "cell_type": "code",
   "execution_count": 21,
   "metadata": {},
   "outputs": [
    {
     "name": "stdout",
     "output_type": "stream",
     "text": [
      "Try to go left, get left: 0.33\n",
      "Try to go left, get right: 0.00\n",
      "Try to go left, get up: 0.33\n",
      "Try to go left, get down: 0.33\n"
     ]
    }
   ],
   "source": [
    "problem = FrozenLake(map_name=\"4x4\", is_slippery=True)\n",
    "print(f\"Try to go left, get left: {problem.random_event_probability(\n",
    "    state=jnp.array([0, 0]), action=jnp.array([0]), random_event=jnp.array([0])):.2f}\")\n",
    "print(f\"Try to go left, get right: {problem.random_event_probability(\n",
    "    state=jnp.array([0, 0]), action=jnp.array([0]), random_event=jnp.array([2])):.2f}\")\n",
    "print(f\"Try to go left, get up: {problem.random_event_probability(\n",
    "    state=jnp.array([0, 0]), action=jnp.array([0]), random_event=jnp.array([1])):.2f}\")\n",
    "print(f\"Try to go left, get down: {problem.random_event_probability(\n",
    "    state=jnp.array([0, 0]), action=jnp.array([0]), random_event=jnp.array([3])):.2f}\")"
   ]
  },
  {
   "cell_type": "markdown",
   "metadata": {},
   "source": [
    "And when it isn't slippery:"
   ]
  },
  {
   "cell_type": "code",
   "execution_count": 22,
   "metadata": {},
   "outputs": [
    {
     "name": "stdout",
     "output_type": "stream",
     "text": [
      "Try to go left, get left: 1.00\n",
      "Try to go left, get right: 0.00\n",
      "Try to go left, get up: 0.00\n",
      "Try to go left, get down: 0.00\n"
     ]
    }
   ],
   "source": [
    "problem = FrozenLake(map_name=\"4x4\", is_slippery=False)\n",
    "print(f\"Try to go left, get left: {problem.random_event_probability(\n",
    "    state=jnp.array([0, 0]), action=jnp.array([0]), random_event=jnp.array([0])):.2f}\")\n",
    "print(f\"Try to go left, get right: {problem.random_event_probability(\n",
    "    state=jnp.array([0, 0]), action=jnp.array([0]), random_event=jnp.array([2])):.2f}\")\n",
    "print(f\"Try to go left, get up: {problem.random_event_probability(\n",
    "    state=jnp.array([0, 0]), action=jnp.array([0]), random_event=jnp.array([1])):.2f}\")\n",
    "print(f\"Try to go left, get down: {problem.random_event_probability(\n",
    "    state=jnp.array([0, 0]), action=jnp.array([0]), random_event=jnp.array([3])):.2f}\")"
   ]
  },
  {
   "cell_type": "markdown",
   "metadata": {},
   "source": [
    "### 1.7 The `transition` method"
   ]
  },
  {
   "cell_type": "markdown",
   "metadata": {},
   "source": [
    "The `transition` method is deterministic because any random elements in a transition are specified by the random event argument. It returns the next state and the reward when we take a specified action in a specified state and stochastic elements resolve to the specified random event. \n",
    "\n",
    "As with `random_event_probability`, this needs to be written using JAX array operations so that it can be transformed using JAX's `vmap` and `pmap` transformations and JIT compiled. We therefore use `jnp.where` instead of Python if statements for control flow.\n",
    "\n",
    "In this problem, we have terminal states (the goal and the holes in the ice). Once the agent reaches a terminal state it stays there forever."
   ]
  },
  {
   "cell_type": "code",
   "execution_count": 23,
   "metadata": {},
   "outputs": [],
   "source": [
    "class FrozenLake(FrozenLake):\n",
    "    def transition(\n",
    "    self,\n",
    "    state: StateVector,\n",
    "    action: ActionVector,\n",
    "    random_event: RandomEventVector\n",
    "    ) -> tuple[StateVector, Reward]:\n",
    "        \"\"\"Compute next state and reward for a transition.\n",
    "\n",
    "        Args:\n",
    "            state: Current state vector [state_dim]\n",
    "            action: Action vector [action_dim]\n",
    "            random_event: Random event vector [event_dim]\n",
    "\n",
    "        Returns:\n",
    "            Tuple containing the next state vector [state_dim] and\n",
    "            the immediate reward\n",
    "        \"\"\"\n",
    "        \n",
    "        row, col = state[0], state[1]\n",
    "        is_terminal_state = (self.grid[row, col] == 1) | (self.grid[row, col] == 2) # Goal or hole\n",
    "        \n",
    "        # Direction we actually move defined by random event\n",
    "        actual_direction = random_event[0]\n",
    "\n",
    "        # Calculate next row - move down or up\n",
    "        # If we are at top or bottom of grid, stay in current row\n",
    "        next_row = jnp.where(\n",
    "            actual_direction == 1,  # DOWN\n",
    "            jnp.minimum(row + 1, self.n_rows - 1),\n",
    "            jnp.where(\n",
    "                actual_direction == 3,  # UP\n",
    "                jnp.maximum(row - 1, 0),\n",
    "                row  # No change for LEFT/RIGHT\n",
    "            )\n",
    "        )\n",
    "        \n",
    "        # Calculate next column - move left or right\n",
    "        # If we are at left or right of grid, stay in current column\n",
    "        next_col = jnp.where(\n",
    "            actual_direction == 0,  # LEFT\n",
    "            jnp.maximum(col - 1, 0),\n",
    "            jnp.where(\n",
    "                actual_direction == 2,  # RIGHT\n",
    "                jnp.minimum(col + 1, self.n_cols - 1),\n",
    "                col  # No change for UP/DOWN\n",
    "            )\n",
    "        )\n",
    "        \n",
    "        # Construct next state\n",
    "        next_state = jnp.array([next_row, next_col])\n",
    "        \n",
    "        # Stay in current state if terminal\n",
    "        next_state = jnp.where(\n",
    "            is_terminal_state,\n",
    "            state,\n",
    "            next_state\n",
    "        )\n",
    "        \n",
    "        # Calculate reward (1 only when transitioning TO goal, not for staying in goal)\n",
    "        reward = jnp.where(\n",
    "            is_terminal_state,\n",
    "            0.0,  # No reward in terminal states\n",
    "            jnp.where(self.grid[next_row, next_col] == 2, 1.0, 0.0)  # 1.0 for reaching goal\n",
    "        )\n",
    "        \n",
    "        return next_state, reward"
   ]
  },
  {
   "cell_type": "code",
   "execution_count": 24,
   "metadata": {},
   "outputs": [],
   "source": [
    "problem = FrozenLake(map_name=\"4x4\", is_slippery=True)"
   ]
  },
  {
   "cell_type": "code",
   "execution_count": 25,
   "metadata": {},
   "outputs": [
    {
     "name": "stdout",
     "output_type": "stream",
     "text": [
      "Moving left from start, next state: [0 0], reward: 0.0\n"
     ]
    }
   ],
   "source": [
    "next_state, reward = problem.transition(\n",
    "    state=jnp.array([0, 0]), action=jnp.array([0]), random_event=jnp.array([0]))\n",
    "print(f\"Moving left from start, next state: {next_state}, reward: {reward}\")"
   ]
  },
  {
   "cell_type": "code",
   "execution_count": 26,
   "metadata": {},
   "outputs": [
    {
     "name": "stdout",
     "output_type": "stream",
     "text": [
      "Moving right into goal, next state [3 3], reward: 1.0\n"
     ]
    }
   ],
   "source": [
    "next_state, reward = problem.transition(\n",
    "    state=jnp.array([3, 2]), action=jnp.array([2]), random_event=jnp.array([2]))\n",
    "print(f\"Moving right into goal, next state {next_state}, reward: {reward}\")"
   ]
  },
  {
   "cell_type": "code",
   "execution_count": 27,
   "metadata": {},
   "outputs": [
    {
     "name": "stdout",
     "output_type": "stream",
     "text": [
      "Trying to move from a hole, next state: [2 3], reward: 0.0\n"
     ]
    }
   ],
   "source": [
    "next_state, reward = problem.transition(\n",
    "    state=jnp.array([2, 3]), action=jnp.array([1]), random_event=jnp.array([1]))\n",
    "print(f\"Trying to move from a hole, next state: {next_state}, reward: {reward}\")"
   ]
  },
  {
   "cell_type": "code",
   "execution_count": 28,
   "metadata": {},
   "outputs": [],
   "source": [
    "problem = FrozenLake(map_name=\"4x4\", is_slippery=False)"
   ]
  },
  {
   "cell_type": "markdown",
   "metadata": {},
   "source": [
    "## 2 Putting it all together"
   ]
  },
  {
   "cell_type": "markdown",
   "metadata": {},
   "source": [
    "Here is the full class definition for the `FrozenLake` problem."
   ]
  },
  {
   "cell_type": "code",
   "execution_count": 29,
   "metadata": {},
   "outputs": [],
   "source": [
    "class FrozenLake(Problem):\n",
    "    \"\"\"FrozenLake MDP from OpenAI Gym.\n",
    "\n",
    "    Models navigation on a grid world with slippery movement.\n",
    "    \n",
    "    The agent must navigate from start (S) to goal (G) on a frozen lake surface (F)\n",
    "    where the surface is slippery and there are holes (H) that end the episode. \n",
    "    \n",
    "    Example 4x4 map:\n",
    "    SFFF\n",
    "    FHFH\n",
    "    FFFH\n",
    "    HFFG\n",
    "\n",
    "    State Space (state_dim = 2):\n",
    "        Vector containing:\n",
    "        - Row: 1 element in range [0, n_rows-1]\n",
    "        - Column: 1 element in range [0, n_cols-1]\n",
    "\n",
    "    Action Space (action_dim = 1):\n",
    "        Vector containing:\n",
    "        - Intended movement direction: 1 element in range [0, 3]\n",
    "            where:\n",
    "            - 0: LEFT\n",
    "            - 1: DOWN\n",
    "            - 2: RIGHT\n",
    "            - 3: UP\n",
    "\n",
    "    Random Events (event_dim = 1):\n",
    "        Vector containing:\n",
    "        - Actual movement direction: 1 element in range [0, 3]\n",
    "\n",
    "    Dynamics:\n",
    "        1. The agent chooses an intended movement direction\n",
    "        2. The agent moves in the actual direction.\n",
    "            - If the surface is not slippery, the agent moves in the intended direction.\n",
    "            - If the surface is slippery, the agent has a 1/3 probability of moving\n",
    "                in the intended direction, a 1/3 probability of moving in the \n",
    "                direction to the left of the intended direction, and a 1/3 \n",
    "                probability of moving in the direction to the right of the intended \n",
    "                direction.\n",
    "        3. The episode ends when the agent reaches the goal or falls into a hole\n",
    "    \n",
    "    Args:\n",
    "        desc: Custom map layout as list of strings\n",
    "        map_name: Key for a map in the dictionary of known maps `MAPS`\n",
    "        is_slippery: If True, the movement direction is stochastic\n",
    "    \"\"\"\n",
    "    def __init__(\n",
    "        self, \n",
    "        desc: list[str] | None = None,\n",
    "        map_name: str = \"4x4\",\n",
    "        is_slippery: bool = True,\n",
    "    ):\n",
    "        self.desc = desc\n",
    "        self.map_name = map_name\n",
    "        self.is_slippery = is_slippery\n",
    "\n",
    "        # Use a custom map if provided\n",
    "        if desc is not None:\n",
    "            self.map = desc\n",
    "        else:\n",
    "            self.map = MAPS[map_name]\n",
    "\n",
    "        # Convert map to array for efficient lookup\n",
    "        # Needs to be numeric so use 1 for hole and 2 for goal\n",
    "        # 0 for frozen surface\n",
    "        self.grid = jnp.array([\n",
    "            [1 if c == 'H' else 2 if c == 'G' else 0 \n",
    "             for c in row]\n",
    "            for row in self.map\n",
    "        ])\n",
    "        self.n_rows, self.n_cols = self.grid.shape\n",
    "        \n",
    "        super().__init__()\n",
    "    \n",
    "    @property\n",
    "    def name(self) -> str:\n",
    "        \"\"\"A unique identifier for this problem type\"\"\"\n",
    "        s = \"slippery\" if self.is_slippery else \"non_slippery\"\n",
    "        if self.desc is not None:\n",
    "            return f\"frozen_lake_custom_{s}\"\n",
    "        else:\n",
    "            return f\"frozen_lake_{self.map_name}_{s}\"\n",
    "    \n",
    "    def _construct_state_space(self) -> StateSpace:\n",
    "        \"\"\"Build array of all possible states.\n",
    "\n",
    "        Returns:\n",
    "            Array of shape [n_states, state_dim] containing all possible states\n",
    "        \"\"\"\n",
    "        mins = np.zeros(2, dtype=np.int32)\n",
    "        maxs = np.array([self.n_rows-1, self.n_cols-1], dtype=np.int32)\n",
    "        state_space, self._state_to_index_fn = create_range_space(mins, maxs)\n",
    "        return state_space\n",
    "    \n",
    "    \n",
    "    def state_to_index(self, state: StateVector) -> int:\n",
    "        \"\"\"Convert state vector to index.\"\"\"\n",
    "        return self._state_to_index_fn(state)\n",
    "    \n",
    "    def _construct_action_space(self) -> ActionSpace:\n",
    "        \"\"\"Build an array of all possible actions.\n",
    "\n",
    "        Returns:\n",
    "            Array of shape [n_actions, action_dim] containing all possible actions\n",
    "        \"\"\"\n",
    "        # One action for each direction\n",
    "        return jnp.arange(4).reshape(-1, 1)\n",
    "    \n",
    "    def _construct_random_event_space(self) -> RandomEventSpace:\n",
    "        \"\"\"Build an array of all possible random events.\n",
    "\n",
    "        Returns:\n",
    "            Array of shape [n_events, event_dim] containing all possible random events\n",
    "        \"\"\"\n",
    "        return jnp.arange(4).reshape(-1, 1)\n",
    "    \n",
    "    def random_event_probability(\n",
    "        self,\n",
    "        state: StateVector,\n",
    "        action: ActionVector,\n",
    "        random_event: RandomEventVector\n",
    "    ) -> float:\n",
    "        \"\"\"Calculate probability of random event given state-action pair.\n",
    "\n",
    "        Args:\n",
    "            state: Current state vector [state_dim]\n",
    "            action: Action vector [action_dim]\n",
    "            random_event: Random event vector [event_dim]\n",
    "\n",
    "        Returns:\n",
    "            Probability of the random event occurring\n",
    "        \"\"\"\n",
    "        # Instead of using Python control flow, we use JAX's lax.cond function to\n",
    "        # select the correct function to call based on whether the lake is slippery or not.\n",
    "        # This takes the form jnp.lax.cond(condition, true_fn, false_fn, *operands)\n",
    "        \n",
    "        return jax.lax.cond(self.is_slippery, \n",
    "                         self._random_event_probability_slippery,\n",
    "                         self._random_event_probability_not_slippery, state, action, random_event)\n",
    "\n",
    "\n",
    "    def _random_event_probability_slippery(self, state: StateVector, \n",
    "                                           action: ActionVector, \n",
    "                                           random_event: RandomEventVector) -> float:\n",
    "        \"\"\"Calculate probability of random event given state-action pair when the lake is slippery.\"\"\"\n",
    "        intended_direction = action[0]\n",
    "        opposite_direction = (intended_direction + 2) % 4\n",
    "        # 1/3 prob of each direction except opposite intended\n",
    "\n",
    "        # jnp.where is like numpy.where but for JAX arrays\n",
    "        # creates an array of 4 elements, 1/3 for each direction except opposite intended\n",
    "        probs = jnp.where(jnp.arange(4) == opposite_direction, 0, 1/3)\n",
    "        return probs[random_event[0]]\n",
    "\n",
    "    def _random_event_probability_not_slippery(self, state: StateVector, \n",
    "                                               action: ActionVector, random_event: \n",
    "                                               RandomEventVector) -> float:\n",
    "        \"\"\"Calculate probability of random event given state-action pair when the lake is not slippery.\"\"\"\n",
    "        # Probability of intended direction is 1.0\n",
    "        return jnp.where(action[0] == random_event[0], 1.0, 0.0)\n",
    "\n",
    "    def transition(\n",
    "    self,\n",
    "    state: StateVector,\n",
    "    action: ActionVector,\n",
    "    random_event: RandomEventVector\n",
    "    ) -> tuple[StateVector, Reward]:\n",
    "        \"\"\"Compute next state and reward for a transition.\n",
    "\n",
    "        Args:\n",
    "            state: Current state vector [state_dim]\n",
    "            action: Action vector [action_dim]\n",
    "            random_event: Random event vector [event_dim]\n",
    "\n",
    "        Returns:\n",
    "            Tuple containing the next state vector [state_dim] and\n",
    "            the immediate reward\n",
    "        \"\"\"\n",
    "        \n",
    "        row, col = state[0], state[1]\n",
    "        is_terminal_state = (self.grid[row, col] == 1) | (self.grid[row, col] == 2) # Goal or hole\n",
    "        \n",
    "        # Direction we actually move defined by random event\n",
    "        actual_direction = random_event[0]\n",
    "\n",
    "        # Calculate next row - move down or up\n",
    "        # If we are at top or bottom of grid, stay in current row\n",
    "        next_row = jnp.where(\n",
    "            actual_direction == 1,  # DOWN\n",
    "            jnp.minimum(row + 1, self.n_rows - 1),\n",
    "            jnp.where(\n",
    "                actual_direction == 3,  # UP\n",
    "                jnp.maximum(row - 1, 0),\n",
    "                row  # No change for LEFT/RIGHT\n",
    "            )\n",
    "        )\n",
    "        \n",
    "        # Calculate next column - move left or right\n",
    "        # If we are at left or right of grid, stay in current column\n",
    "        next_col = jnp.where(\n",
    "            actual_direction == 0,  # LEFT\n",
    "            jnp.maximum(col - 1, 0),\n",
    "            jnp.where(\n",
    "                actual_direction == 2,  # RIGHT\n",
    "                jnp.minimum(col + 1, self.n_cols - 1),\n",
    "                col  # No change for UP/DOWN\n",
    "            )\n",
    "        )\n",
    "        \n",
    "        # Construct next state\n",
    "        next_state = jnp.array([next_row, next_col])\n",
    "        \n",
    "        # Stay in current state if terminal\n",
    "        next_state = jnp.where(\n",
    "            is_terminal_state,\n",
    "            state,\n",
    "            next_state\n",
    "        )\n",
    "        \n",
    "        # Calculate reward (1 only when transitioning TO goal, not for staying in goal)\n",
    "        reward = jnp.where(\n",
    "            is_terminal_state,\n",
    "            0.0,  # No reward in terminal states\n",
    "            jnp.where(self.grid[next_row, next_col] == 2, 1.0, 0.0)  # 1.0 for reaching goal\n",
    "        )\n",
    "        \n",
    "        return next_state, reward"
   ]
  },
  {
   "cell_type": "markdown",
   "metadata": {
    "id": "solving_intro"
   },
   "source": [
    "## 3 Solving the Problem\n",
    "\n",
    "Now that we have our problem implementation, let's solve it using value iteration."
   ]
  },
  {
   "cell_type": "markdown",
   "metadata": {},
   "source": [
    "### 3.1 Non-slippery case"
   ]
  },
  {
   "cell_type": "code",
   "execution_count": 30,
   "metadata": {
    "id": "solving"
   },
   "outputs": [
    {
     "name": "stderr",
     "output_type": "stream",
     "text": [
      "\u001b[32m2025-01-04 21:47:07.717\u001b[0m | \u001b[1mINFO    \u001b[0m | \u001b[36mmdpax.core.solver\u001b[0m:\u001b[36m__init__\u001b[0m:\u001b[36m159\u001b[0m - \u001b[1mSolver initialized with frozen_lake_4x4_non_slippery problem\u001b[0m\n",
      "\u001b[32m2025-01-04 21:47:07.868\u001b[0m | \u001b[1mINFO    \u001b[0m | \u001b[36mmdpax.utils.checkpointing\u001b[0m:\u001b[36m_setup_checkpointing\u001b[0m:\u001b[36m123\u001b[0m - \u001b[1mCheckpointing not enabled\u001b[0m\n"
     ]
    },
    {
     "name": "stderr",
     "output_type": "stream",
     "text": [
      "\u001b[32m2025-01-04 21:47:08.256\u001b[0m | \u001b[1mINFO    \u001b[0m | \u001b[36mmdpax.solvers.value_iteration\u001b[0m:\u001b[36msolve\u001b[0m:\u001b[36m497\u001b[0m - \u001b[1mIteration 1 span: 1.00000\u001b[0m\n",
      "\u001b[32m2025-01-04 21:47:08.420\u001b[0m | \u001b[1mINFO    \u001b[0m | \u001b[36mmdpax.solvers.value_iteration\u001b[0m:\u001b[36msolve\u001b[0m:\u001b[36m497\u001b[0m - \u001b[1mIteration 2 span: 0.90000\u001b[0m\n",
      "\u001b[32m2025-01-04 21:47:08.424\u001b[0m | \u001b[1mINFO    \u001b[0m | \u001b[36mmdpax.solvers.value_iteration\u001b[0m:\u001b[36msolve\u001b[0m:\u001b[36m497\u001b[0m - \u001b[1mIteration 3 span: 0.81000\u001b[0m\n",
      "\u001b[32m2025-01-04 21:47:08.431\u001b[0m | \u001b[1mINFO    \u001b[0m | \u001b[36mmdpax.solvers.value_iteration\u001b[0m:\u001b[36msolve\u001b[0m:\u001b[36m497\u001b[0m - \u001b[1mIteration 4 span: 0.72900\u001b[0m\n",
      "\u001b[32m2025-01-04 21:47:08.435\u001b[0m | \u001b[1mINFO    \u001b[0m | \u001b[36mmdpax.solvers.value_iteration\u001b[0m:\u001b[36msolve\u001b[0m:\u001b[36m497\u001b[0m - \u001b[1mIteration 5 span: 0.65610\u001b[0m\n",
      "\u001b[32m2025-01-04 21:47:08.440\u001b[0m | \u001b[1mINFO    \u001b[0m | \u001b[36mmdpax.solvers.value_iteration\u001b[0m:\u001b[36msolve\u001b[0m:\u001b[36m497\u001b[0m - \u001b[1mIteration 6 span: 0.59049\u001b[0m\n",
      "\u001b[32m2025-01-04 21:47:08.443\u001b[0m | \u001b[1mINFO    \u001b[0m | \u001b[36mmdpax.solvers.value_iteration\u001b[0m:\u001b[36msolve\u001b[0m:\u001b[36m497\u001b[0m - \u001b[1mIteration 7 span: 0.00000\u001b[0m\n",
      "\u001b[32m2025-01-04 21:47:08.444\u001b[0m | \u001b[1mINFO    \u001b[0m | \u001b[36mmdpax.solvers.value_iteration\u001b[0m:\u001b[36msolve\u001b[0m:\u001b[36m502\u001b[0m - \u001b[1mConvergence threshold reached at iteration 7\u001b[0m\n",
      "\u001b[32m2025-01-04 21:47:08.464\u001b[0m | \u001b[1mINFO    \u001b[0m | \u001b[36mmdpax.solvers.value_iteration\u001b[0m:\u001b[36msolve\u001b[0m:\u001b[36m521\u001b[0m - \u001b[1mExtracting policy\u001b[0m\n",
      "\u001b[32m2025-01-04 21:47:08.709\u001b[0m | \u001b[1mINFO    \u001b[0m | \u001b[36mmdpax.solvers.value_iteration\u001b[0m:\u001b[36msolve\u001b[0m:\u001b[36m523\u001b[0m - \u001b[1mPolicy extracted\u001b[0m\n",
      "\u001b[32m2025-01-04 21:47:08.710\u001b[0m | \u001b[32m\u001b[1mSUCCESS \u001b[0m | \u001b[36mmdpax.solvers.value_iteration\u001b[0m:\u001b[36msolve\u001b[0m:\u001b[36m525\u001b[0m - \u001b[32m\u001b[1mValue iteration completed\u001b[0m\n"
     ]
    }
   ],
   "source": [
    "from mdpax.solvers.value_iteration import ValueIteration\n",
    "\n",
    "# Create problem instance\n",
    "problem = FrozenLake(map_name=\"4x4\", is_slippery=False)\n",
    "\n",
    "# Create and run solver\n",
    "solver = ValueIteration(problem, gamma=0.9, epsilon=1e-3)\n",
    "solution = solver.solve()"
   ]
  },
  {
   "cell_type": "markdown",
   "metadata": {},
   "source": [
    "And, because this is a small problem, we can construct the transition and reward matrices and compare the result to pymdptoolbox."
   ]
  },
  {
   "cell_type": "code",
   "execution_count": 31,
   "metadata": {},
   "outputs": [
    {
     "name": "stdout",
     "output_type": "stream",
     "text": [
      "MDPax and mdptoolbox policies match: True\n"
     ]
    }
   ],
   "source": [
    "P, R = problem.build_transition_and_reward_matrices()\n",
    "P, R = np.array(P), np.array(R)\n",
    "vi = mdptoolbox.mdp.ValueIteration(P, R, discount=0.9, epsilon=1e-3)\n",
    "vi.run()\n",
    "print(f\"MDPax and mdptoolbox policies match: {np.all(np.array(vi.policy) == solution.policy.flatten())}\")"
   ]
  },
  {
   "cell_type": "markdown",
   "metadata": {},
   "source": [
    "Finally, we can visualize the policy to check that it makes sense."
   ]
  },
  {
   "cell_type": "code",
   "execution_count": 32,
   "metadata": {},
   "outputs": [],
   "source": [
    "def plot_policy(problem: FrozenLake, policy: Policy) -> None:\n",
    "    \"\"\"Visualize FrozenLake policy.\n",
    "    \n",
    "    Args:\n",
    "        problem: FrozenLake problem instance\n",
    "        policy: Policy array [n_states, 1] with action indices\n",
    "\n",
    "    Returns:\n",
    "        None\n",
    "    \"\"\"\n",
    "    # Create figure\n",
    "    fig, ax = plt.subplots(figsize=(8, 8))\n",
    "    \n",
    "    # Plot grid\n",
    "    ax.grid(True)\n",
    "    ax.set_xticks(range(problem.n_cols + 1))\n",
    "    ax.set_yticks(range(problem.n_rows + 1))\n",
    "    \n",
    "    # Plot cell types\n",
    "    cell_colors = {\n",
    "        'S': 'lightgreen',\n",
    "        'F': 'lightblue',\n",
    "        'H': 'red',\n",
    "        'G': 'gold'\n",
    "    }\n",
    "    \n",
    "    for i in range(problem.n_rows):\n",
    "        for j in range(problem.n_cols):\n",
    "            cell = problem.map[i][j]\n",
    "            ax.add_patch(plt.Rectangle(\n",
    "                (j, problem.n_rows-1-i),\n",
    "                1, 1,\n",
    "                facecolor=cell_colors[cell],\n",
    "                alpha=0.3\n",
    "            ))\n",
    "            ax.text(\n",
    "                j+0.5, problem.n_rows-1-i+0.5,\n",
    "                cell,\n",
    "                ha='center', va='center'\n",
    "            )\n",
    "    \n",
    "    # Plot policy arrows\n",
    "    arrows = {0: '←', 1: '↓', 2: '→', 3: '↑'}\n",
    "    \n",
    "    for state_idx, action in enumerate(policy):\n",
    "        state = problem.state_space[state_idx]\n",
    "        row, col = state[0], state[1]\n",
    "        \n",
    "        # Skip arrows in terminal states\n",
    "        if (problem.grid[row, col] == 1) | (problem.grid[row, col] == 2):\n",
    "            continue\n",
    "            \n",
    "        ax.text(\n",
    "            col+0.5, problem.n_rows-1-row+0.2,\n",
    "            arrows[int(action[0])],\n",
    "            ha='center', va='center',\n",
    "            color='black',\n",
    "            fontsize=20\n",
    "        )\n",
    "    \n",
    "    ax.set_title('FrozenLake Policy\\n(arrows show optimal actions)')\n",
    "    plt.show()"
   ]
  },
  {
   "cell_type": "code",
   "execution_count": 33,
   "metadata": {},
   "outputs": [
    {
     "data": {
      "image/png": "[encoded data removed]",
      "text/plain": [
       "<Figure size 800x800 with 1 Axes>"
      ]
     },
     "metadata": {},
     "output_type": "display_data"
    }
   ],
   "source": [
    "plot_policy(problem, solution.policy)"
   ]
  },
  {
   "cell_type": "markdown",
   "metadata": {},
   "source": [
    "### 3.2 Slippery case"
   ]
  },
  {
   "cell_type": "markdown",
   "metadata": {},
   "source": [
    "We can repeat the analysis for the slippery case, again comparing the results from MDPax and pymdptoolbox."
   ]
  },
  {
   "cell_type": "code",
   "execution_count": 34,
   "metadata": {},
   "outputs": [
    {
     "name": "stderr",
     "output_type": "stream",
     "text": [
      "\u001b[32m2025-01-04 21:47:10.797\u001b[0m | \u001b[1mINFO    \u001b[0m | \u001b[36mmdpax.core.solver\u001b[0m:\u001b[36m__init__\u001b[0m:\u001b[36m159\u001b[0m - \u001b[1mSolver initialized with frozen_lake_4x4_slippery problem\u001b[0m\n"
     ]
    },
    {
     "name": "stderr",
     "output_type": "stream",
     "text": [
      "\u001b[32m2025-01-04 21:47:10.827\u001b[0m | \u001b[1mINFO    \u001b[0m | \u001b[36mmdpax.utils.checkpointing\u001b[0m:\u001b[36m_setup_checkpointing\u001b[0m:\u001b[36m123\u001b[0m - \u001b[1mCheckpointing not enabled\u001b[0m\n",
      "\u001b[32m2025-01-04 21:47:11.128\u001b[0m | \u001b[1mINFO    \u001b[0m | \u001b[36mmdpax.solvers.value_iteration\u001b[0m:\u001b[36msolve\u001b[0m:\u001b[36m497\u001b[0m - \u001b[1mIteration 1 span: 0.33333\u001b[0m\n",
      "\u001b[32m2025-01-04 21:47:11.265\u001b[0m | \u001b[1mINFO    \u001b[0m | \u001b[36mmdpax.solvers.value_iteration\u001b[0m:\u001b[36msolve\u001b[0m:\u001b[36m497\u001b[0m - \u001b[1mIteration 2 span: 0.10000\u001b[0m\n",
      "\u001b[32m2025-01-04 21:47:11.271\u001b[0m | \u001b[1mINFO    \u001b[0m | \u001b[36mmdpax.solvers.value_iteration\u001b[0m:\u001b[36msolve\u001b[0m:\u001b[36m497\u001b[0m - \u001b[1mIteration 3 span: 0.06000\u001b[0m\n",
      "\u001b[32m2025-01-04 21:47:11.275\u001b[0m | \u001b[1mINFO    \u001b[0m | \u001b[36mmdpax.solvers.value_iteration\u001b[0m:\u001b[36msolve\u001b[0m:\u001b[36m497\u001b[0m - \u001b[1mIteration 4 span: 0.05400\u001b[0m\n",
      "\u001b[32m2025-01-04 21:47:11.279\u001b[0m | \u001b[1mINFO    \u001b[0m | \u001b[36mmdpax.solvers.value_iteration\u001b[0m:\u001b[36msolve\u001b[0m:\u001b[36m497\u001b[0m - \u001b[1mIteration 5 span: 0.03510\u001b[0m\n",
      "\u001b[32m2025-01-04 21:47:11.283\u001b[0m | \u001b[1mINFO    \u001b[0m | \u001b[36mmdpax.solvers.value_iteration\u001b[0m:\u001b[36msolve\u001b[0m:\u001b[36m497\u001b[0m - \u001b[1mIteration 6 span: 0.02916\u001b[0m\n",
      "\u001b[32m2025-01-04 21:47:11.286\u001b[0m | \u001b[1mINFO    \u001b[0m | \u001b[36mmdpax.solvers.value_iteration\u001b[0m:\u001b[36msolve\u001b[0m:\u001b[36m497\u001b[0m - \u001b[1mIteration 7 span: 0.02066\u001b[0m\n",
      "\u001b[32m2025-01-04 21:47:11.289\u001b[0m | \u001b[1mINFO    \u001b[0m | \u001b[36mmdpax.solvers.value_iteration\u001b[0m:\u001b[36msolve\u001b[0m:\u001b[36m497\u001b[0m - \u001b[1mIteration 8 span: 0.01669\u001b[0m\n",
      "\u001b[32m2025-01-04 21:47:11.292\u001b[0m | \u001b[1mINFO    \u001b[0m | \u001b[36mmdpax.solvers.value_iteration\u001b[0m:\u001b[36msolve\u001b[0m:\u001b[36m497\u001b[0m - \u001b[1mIteration 9 span: 0.01266\u001b[0m\n",
      "\u001b[32m2025-01-04 21:47:11.296\u001b[0m | \u001b[1mINFO    \u001b[0m | \u001b[36mmdpax.solvers.value_iteration\u001b[0m:\u001b[36msolve\u001b[0m:\u001b[36m497\u001b[0m - \u001b[1mIteration 10 span: 0.00999\u001b[0m\n",
      "\u001b[32m2025-01-04 21:47:11.300\u001b[0m | \u001b[1mINFO    \u001b[0m | \u001b[36mmdpax.solvers.value_iteration\u001b[0m:\u001b[36msolve\u001b[0m:\u001b[36m497\u001b[0m - \u001b[1mIteration 11 span: 0.00806\u001b[0m\n",
      "\u001b[32m2025-01-04 21:47:11.305\u001b[0m | \u001b[1mINFO    \u001b[0m | \u001b[36mmdpax.solvers.value_iteration\u001b[0m:\u001b[36msolve\u001b[0m:\u001b[36m497\u001b[0m - \u001b[1mIteration 12 span: 0.00647\u001b[0m\n",
      "\u001b[32m2025-01-04 21:47:11.308\u001b[0m | \u001b[1mINFO    \u001b[0m | \u001b[36mmdpax.solvers.value_iteration\u001b[0m:\u001b[36msolve\u001b[0m:\u001b[36m497\u001b[0m - \u001b[1mIteration 13 span: 0.00547\u001b[0m\n",
      "\u001b[32m2025-01-04 21:47:11.310\u001b[0m | \u001b[1mINFO    \u001b[0m | \u001b[36mmdpax.solvers.value_iteration\u001b[0m:\u001b[36msolve\u001b[0m:\u001b[36m497\u001b[0m - \u001b[1mIteration 14 span: 0.00469\u001b[0m\n",
      "\u001b[32m2025-01-04 21:47:11.314\u001b[0m | \u001b[1mINFO    \u001b[0m | \u001b[36mmdpax.solvers.value_iteration\u001b[0m:\u001b[36msolve\u001b[0m:\u001b[36m497\u001b[0m - \u001b[1mIteration 15 span: 0.00399\u001b[0m\n",
      "\u001b[32m2025-01-04 21:47:11.316\u001b[0m | \u001b[1mINFO    \u001b[0m | \u001b[36mmdpax.solvers.value_iteration\u001b[0m:\u001b[36msolve\u001b[0m:\u001b[36m497\u001b[0m - \u001b[1mIteration 16 span: 0.00342\u001b[0m\n",
      "\u001b[32m2025-01-04 21:47:11.320\u001b[0m | \u001b[1mINFO    \u001b[0m | \u001b[36mmdpax.solvers.value_iteration\u001b[0m:\u001b[36msolve\u001b[0m:\u001b[36m497\u001b[0m - \u001b[1mIteration 17 span: 0.00304\u001b[0m\n",
      "\u001b[32m2025-01-04 21:47:11.322\u001b[0m | \u001b[1mINFO    \u001b[0m | \u001b[36mmdpax.solvers.value_iteration\u001b[0m:\u001b[36msolve\u001b[0m:\u001b[36m497\u001b[0m - \u001b[1mIteration 18 span: 0.00271\u001b[0m\n",
      "\u001b[32m2025-01-04 21:47:11.326\u001b[0m | \u001b[1mINFO    \u001b[0m | \u001b[36mmdpax.solvers.value_iteration\u001b[0m:\u001b[36msolve\u001b[0m:\u001b[36m497\u001b[0m - \u001b[1mIteration 19 span: 0.00244\u001b[0m\n",
      "\u001b[32m2025-01-04 21:47:11.329\u001b[0m | \u001b[1mINFO    \u001b[0m | \u001b[36mmdpax.solvers.value_iteration\u001b[0m:\u001b[36msolve\u001b[0m:\u001b[36m497\u001b[0m - \u001b[1mIteration 20 span: 0.00218\u001b[0m\n",
      "\u001b[32m2025-01-04 21:47:11.332\u001b[0m | \u001b[1mINFO    \u001b[0m | \u001b[36mmdpax.solvers.value_iteration\u001b[0m:\u001b[36msolve\u001b[0m:\u001b[36m497\u001b[0m - \u001b[1mIteration 21 span: 0.00193\u001b[0m\n",
      "\u001b[32m2025-01-04 21:47:11.334\u001b[0m | \u001b[1mINFO    \u001b[0m | \u001b[36mmdpax.solvers.value_iteration\u001b[0m:\u001b[36msolve\u001b[0m:\u001b[36m497\u001b[0m - \u001b[1mIteration 22 span: 0.00171\u001b[0m\n",
      "\u001b[32m2025-01-04 21:47:11.337\u001b[0m | \u001b[1mINFO    \u001b[0m | \u001b[36mmdpax.solvers.value_iteration\u001b[0m:\u001b[36msolve\u001b[0m:\u001b[36m497\u001b[0m - \u001b[1mIteration 23 span: 0.00152\u001b[0m\n",
      "\u001b[32m2025-01-04 21:47:11.339\u001b[0m | \u001b[1mINFO    \u001b[0m | \u001b[36mmdpax.solvers.value_iteration\u001b[0m:\u001b[36msolve\u001b[0m:\u001b[36m497\u001b[0m - \u001b[1mIteration 24 span: 0.00134\u001b[0m\n",
      "\u001b[32m2025-01-04 21:47:11.342\u001b[0m | \u001b[1mINFO    \u001b[0m | \u001b[36mmdpax.solvers.value_iteration\u001b[0m:\u001b[36msolve\u001b[0m:\u001b[36m497\u001b[0m - \u001b[1mIteration 25 span: 0.00118\u001b[0m\n",
      "\u001b[32m2025-01-04 21:47:11.346\u001b[0m | \u001b[1mINFO    \u001b[0m | \u001b[36mmdpax.solvers.value_iteration\u001b[0m:\u001b[36msolve\u001b[0m:\u001b[36m497\u001b[0m - \u001b[1mIteration 26 span: 0.00104\u001b[0m\n",
      "\u001b[32m2025-01-04 21:47:11.349\u001b[0m | \u001b[1mINFO    \u001b[0m | \u001b[36mmdpax.solvers.value_iteration\u001b[0m:\u001b[36msolve\u001b[0m:\u001b[36m497\u001b[0m - \u001b[1mIteration 27 span: 0.00091\u001b[0m\n",
      "\u001b[32m2025-01-04 21:47:11.353\u001b[0m | \u001b[1mINFO    \u001b[0m | \u001b[36mmdpax.solvers.value_iteration\u001b[0m:\u001b[36msolve\u001b[0m:\u001b[36m497\u001b[0m - \u001b[1mIteration 28 span: 0.00080\u001b[0m\n",
      "\u001b[32m2025-01-04 21:47:11.357\u001b[0m | \u001b[1mINFO    \u001b[0m | \u001b[36mmdpax.solvers.value_iteration\u001b[0m:\u001b[36msolve\u001b[0m:\u001b[36m497\u001b[0m - \u001b[1mIteration 29 span: 0.00070\u001b[0m\n",
      "\u001b[32m2025-01-04 21:47:11.360\u001b[0m | \u001b[1mINFO    \u001b[0m | \u001b[36mmdpax.solvers.value_iteration\u001b[0m:\u001b[36msolve\u001b[0m:\u001b[36m497\u001b[0m - \u001b[1mIteration 30 span: 0.00061\u001b[0m\n",
      "\u001b[32m2025-01-04 21:47:11.364\u001b[0m | \u001b[1mINFO    \u001b[0m | \u001b[36mmdpax.solvers.value_iteration\u001b[0m:\u001b[36msolve\u001b[0m:\u001b[36m497\u001b[0m - \u001b[1mIteration 31 span: 0.00054\u001b[0m\n",
      "\u001b[32m2025-01-04 21:47:11.367\u001b[0m | \u001b[1mINFO    \u001b[0m | \u001b[36mmdpax.solvers.value_iteration\u001b[0m:\u001b[36msolve\u001b[0m:\u001b[36m497\u001b[0m - \u001b[1mIteration 32 span: 0.00047\u001b[0m\n",
      "\u001b[32m2025-01-04 21:47:11.369\u001b[0m | \u001b[1mINFO    \u001b[0m | \u001b[36mmdpax.solvers.value_iteration\u001b[0m:\u001b[36msolve\u001b[0m:\u001b[36m497\u001b[0m - \u001b[1mIteration 33 span: 0.00041\u001b[0m\n",
      "\u001b[32m2025-01-04 21:47:11.373\u001b[0m | \u001b[1mINFO    \u001b[0m | \u001b[36mmdpax.solvers.value_iteration\u001b[0m:\u001b[36msolve\u001b[0m:\u001b[36m497\u001b[0m - \u001b[1mIteration 34 span: 0.00036\u001b[0m\n",
      "\u001b[32m2025-01-04 21:47:11.376\u001b[0m | \u001b[1mINFO    \u001b[0m | \u001b[36mmdpax.solvers.value_iteration\u001b[0m:\u001b[36msolve\u001b[0m:\u001b[36m497\u001b[0m - \u001b[1mIteration 35 span: 0.00031\u001b[0m\n",
      "\u001b[32m2025-01-04 21:47:11.380\u001b[0m | \u001b[1mINFO    \u001b[0m | \u001b[36mmdpax.solvers.value_iteration\u001b[0m:\u001b[36msolve\u001b[0m:\u001b[36m497\u001b[0m - \u001b[1mIteration 36 span: 0.00027\u001b[0m\n",
      "\u001b[32m2025-01-04 21:47:11.383\u001b[0m | \u001b[1mINFO    \u001b[0m | \u001b[36mmdpax.solvers.value_iteration\u001b[0m:\u001b[36msolve\u001b[0m:\u001b[36m497\u001b[0m - \u001b[1mIteration 37 span: 0.00024\u001b[0m\n",
      "\u001b[32m2025-01-04 21:47:11.386\u001b[0m | \u001b[1mINFO    \u001b[0m | \u001b[36mmdpax.solvers.value_iteration\u001b[0m:\u001b[36msolve\u001b[0m:\u001b[36m497\u001b[0m - \u001b[1mIteration 38 span: 0.00021\u001b[0m\n",
      "\u001b[32m2025-01-04 21:47:11.390\u001b[0m | \u001b[1mINFO    \u001b[0m | \u001b[36mmdpax.solvers.value_iteration\u001b[0m:\u001b[36msolve\u001b[0m:\u001b[36m497\u001b[0m - \u001b[1mIteration 39 span: 0.00018\u001b[0m\n",
      "\u001b[32m2025-01-04 21:47:11.392\u001b[0m | \u001b[1mINFO    \u001b[0m | \u001b[36mmdpax.solvers.value_iteration\u001b[0m:\u001b[36msolve\u001b[0m:\u001b[36m497\u001b[0m - \u001b[1mIteration 40 span: 0.00016\u001b[0m\n",
      "\u001b[32m2025-01-04 21:47:11.396\u001b[0m | \u001b[1mINFO    \u001b[0m | \u001b[36mmdpax.solvers.value_iteration\u001b[0m:\u001b[36msolve\u001b[0m:\u001b[36m497\u001b[0m - \u001b[1mIteration 41 span: 0.00014\u001b[0m\n",
      "\u001b[32m2025-01-04 21:47:11.399\u001b[0m | \u001b[1mINFO    \u001b[0m | \u001b[36mmdpax.solvers.value_iteration\u001b[0m:\u001b[36msolve\u001b[0m:\u001b[36m497\u001b[0m - \u001b[1mIteration 42 span: 0.00012\u001b[0m\n",
      "\u001b[32m2025-01-04 21:47:11.401\u001b[0m | \u001b[1mINFO    \u001b[0m | \u001b[36mmdpax.solvers.value_iteration\u001b[0m:\u001b[36msolve\u001b[0m:\u001b[36m497\u001b[0m - \u001b[1mIteration 43 span: 0.00011\u001b[0m\n",
      "\u001b[32m2025-01-04 21:47:11.402\u001b[0m | \u001b[1mINFO    \u001b[0m | \u001b[36mmdpax.solvers.value_iteration\u001b[0m:\u001b[36msolve\u001b[0m:\u001b[36m502\u001b[0m - \u001b[1mConvergence threshold reached at iteration 43\u001b[0m\n",
      "\u001b[32m2025-01-04 21:47:11.403\u001b[0m | \u001b[1mINFO    \u001b[0m | \u001b[36mmdpax.solvers.value_iteration\u001b[0m:\u001b[36msolve\u001b[0m:\u001b[36m521\u001b[0m - \u001b[1mExtracting policy\u001b[0m\n",
      "\u001b[32m2025-01-04 21:47:11.651\u001b[0m | \u001b[1mINFO    \u001b[0m | \u001b[36mmdpax.solvers.value_iteration\u001b[0m:\u001b[36msolve\u001b[0m:\u001b[36m523\u001b[0m - \u001b[1mPolicy extracted\u001b[0m\n",
      "\u001b[32m2025-01-04 21:47:11.652\u001b[0m | \u001b[32m\u001b[1mSUCCESS \u001b[0m | \u001b[36mmdpax.solvers.value_iteration\u001b[0m:\u001b[36msolve\u001b[0m:\u001b[36m525\u001b[0m - \u001b[32m\u001b[1mValue iteration completed\u001b[0m\n"
     ]
    }
   ],
   "source": [
    "problem = FrozenLake(map_name=\"4x4\", is_slippery=True)\n",
    "solver = ValueIteration(problem, gamma=0.9, epsilon=1e-3)\n",
    "solution = solver.solve()"
   ]
  },
  {
   "cell_type": "code",
   "execution_count": 35,
   "metadata": {},
   "outputs": [
    {
     "name": "stdout",
     "output_type": "stream",
     "text": [
      "MDPax and mdptoolbox policies match: True\n"
     ]
    }
   ],
   "source": [
    "P, R = problem.build_transition_and_reward_matrices()\n",
    "P, R = np.array(P), np.array(R)\n",
    "vi = mdptoolbox.mdp.ValueIteration(P, R, discount=0.9, epsilon=1e-3)\n",
    "vi.run()\n",
    "print(f\"MDPax and mdptoolbox policies match: {np.all(np.array(vi.policy) == solution.policy.flatten())}\")"
   ]
  },
  {
   "cell_type": "code",
   "execution_count": 36,
   "metadata": {},
   "outputs": [
    {
     "data": {
      "image/png": "[encoded data removed]",
      "text/plain": [
       "<Figure size 800x800 with 1 Axes>"
      ]
     },
     "metadata": {},
     "output_type": "display_data"
    }
   ],
   "source": [
    "plot_policy(problem, solution.policy)"
   ]
  },
  {
   "cell_type": "markdown",
   "metadata": {
    "id": "results_explanation"
   },
   "source": [
    "Note that even though this is the optimal policy, the agent won't always follow the arrows exactly when `is_slippery=True` because there's a chance of sliding left or right relative to the intended direction."
   ]
  },
  {
   "cell_type": "markdown",
   "metadata": {},
   "source": [
    "## Checkpoints for problems defined in notebooks"
   ]
  },
  {
   "cell_type": "markdown",
   "metadata": {},
   "source": [
    "The checkpointing demonstration in [LINK TO DO OTHER NOTEBOOK] uses an MDPax example problem, which is defined in a Python module and has a [Hydra](https://hydra.cc/docs/1.3/intro/) configuration. This allows the use of the `restore` method which can recreate the problem and solver using the config.\n",
    "\n",
    "If a problem is defined in a notebook, as is the case here, a lightweight version of checkpointing is enabled instead. It still saves the solver state, and so optimization can be resumed, but the user must manually recreate the problem and solver before loading the checkpoint, as shown below."
   ]
  },
  {
   "cell_type": "code",
   "execution_count": 37,
   "metadata": {},
   "outputs": [
    {
     "name": "stderr",
     "output_type": "stream",
     "text": [
      "\u001b[32m2025-01-04 21:47:12.334\u001b[0m | \u001b[1mINFO    \u001b[0m | \u001b[36mmdpax.core.solver\u001b[0m:\u001b[36m__init__\u001b[0m:\u001b[36m159\u001b[0m - \u001b[1mSolver initialized with frozen_lake_4x4_slippery problem\u001b[0m\n",
      "\u001b[32m2025-01-04 21:47:12.370\u001b[0m | \u001b[1mINFO    \u001b[0m | \u001b[36mmdpax.utils.checkpointing\u001b[0m:\u001b[36m_setup_checkpointing\u001b[0m:\u001b[36m147\u001b[0m - \u001b[1mLightweight checkpointing enabled - problem and solver must be reconstructed manually\u001b[0m\n",
      "\u001b[32m2025-01-04 21:47:12.371\u001b[0m | \u001b[1mINFO    \u001b[0m | \u001b[36mmdpax.utils.checkpointing\u001b[0m:\u001b[36m_setup_checkpointing\u001b[0m:\u001b[36m152\u001b[0m - \u001b[1mSaving checkpoints every 1 iteration(s) to /home/joefarrington/other_learning/mdpax/examples/initial_checkpoints\u001b[0m\n",
      "\u001b[32m2025-01-04 21:47:12.566\u001b[0m | \u001b[1mINFO    \u001b[0m | \u001b[36mmdpax.solvers.value_iteration\u001b[0m:\u001b[36msolve\u001b[0m:\u001b[36m497\u001b[0m - \u001b[1mIteration 1 span: 0.33333\u001b[0m\n",
      "\u001b[32m2025-01-04 21:47:12.749\u001b[0m | \u001b[1mINFO    \u001b[0m | \u001b[36mmdpax.solvers.value_iteration\u001b[0m:\u001b[36msolve\u001b[0m:\u001b[36m497\u001b[0m - \u001b[1mIteration 2 span: 0.10000\u001b[0m\n",
      "\u001b[32m2025-01-04 21:47:12.754\u001b[0m | \u001b[1mINFO    \u001b[0m | \u001b[36mmdpax.solvers.value_iteration\u001b[0m:\u001b[36msolve\u001b[0m:\u001b[36m497\u001b[0m - \u001b[1mIteration 3 span: 0.06000\u001b[0m\n",
      "\u001b[32m2025-01-04 21:47:12.759\u001b[0m | \u001b[1mINFO    \u001b[0m | \u001b[36mmdpax.solvers.value_iteration\u001b[0m:\u001b[36msolve\u001b[0m:\u001b[36m497\u001b[0m - \u001b[1mIteration 4 span: 0.05400\u001b[0m\n",
      "\u001b[32m2025-01-04 21:47:12.762\u001b[0m | \u001b[1mINFO    \u001b[0m | \u001b[36mmdpax.solvers.value_iteration\u001b[0m:\u001b[36msolve\u001b[0m:\u001b[36m497\u001b[0m - \u001b[1mIteration 5 span: 0.03510\u001b[0m\n",
      "\u001b[32m2025-01-04 21:47:12.766\u001b[0m | \u001b[1mINFO    \u001b[0m | \u001b[36mmdpax.solvers.value_iteration\u001b[0m:\u001b[36msolve\u001b[0m:\u001b[36m497\u001b[0m - \u001b[1mIteration 6 span: 0.02916\u001b[0m\n",
      "\u001b[32m2025-01-04 21:47:12.770\u001b[0m | \u001b[1mINFO    \u001b[0m | \u001b[36mmdpax.solvers.value_iteration\u001b[0m:\u001b[36msolve\u001b[0m:\u001b[36m497\u001b[0m - \u001b[1mIteration 7 span: 0.02066\u001b[0m\n",
      "\u001b[32m2025-01-04 21:47:12.774\u001b[0m | \u001b[1mINFO    \u001b[0m | \u001b[36mmdpax.solvers.value_iteration\u001b[0m:\u001b[36msolve\u001b[0m:\u001b[36m497\u001b[0m - \u001b[1mIteration 8 span: 0.01669\u001b[0m\n",
      "\u001b[32m2025-01-04 21:47:12.777\u001b[0m | \u001b[1mINFO    \u001b[0m | \u001b[36mmdpax.solvers.value_iteration\u001b[0m:\u001b[36msolve\u001b[0m:\u001b[36m497\u001b[0m - \u001b[1mIteration 9 span: 0.01266\u001b[0m\n",
      "\u001b[32m2025-01-04 21:47:12.780\u001b[0m | \u001b[1mINFO    \u001b[0m | \u001b[36mmdpax.solvers.value_iteration\u001b[0m:\u001b[36msolve\u001b[0m:\u001b[36m497\u001b[0m - \u001b[1mIteration 10 span: 0.00999\u001b[0m\n",
      "\u001b[32m2025-01-04 21:47:12.783\u001b[0m | \u001b[1mINFO    \u001b[0m | \u001b[36mmdpax.solvers.value_iteration\u001b[0m:\u001b[36msolve\u001b[0m:\u001b[36m514\u001b[0m - \u001b[1mMaximum iterations reached\u001b[0m\n",
      "\u001b[32m2025-01-04 21:47:12.783\u001b[0m | \u001b[1mINFO    \u001b[0m | \u001b[36mmdpax.solvers.value_iteration\u001b[0m:\u001b[36msolve\u001b[0m:\u001b[36m521\u001b[0m - \u001b[1mExtracting policy\u001b[0m\n",
      "\u001b[32m2025-01-04 21:47:13.040\u001b[0m | \u001b[1mINFO    \u001b[0m | \u001b[36mmdpax.solvers.value_iteration\u001b[0m:\u001b[36msolve\u001b[0m:\u001b[36m523\u001b[0m - \u001b[1mPolicy extracted\u001b[0m\n",
      "\u001b[32m2025-01-04 21:47:13.041\u001b[0m | \u001b[32m\u001b[1mSUCCESS \u001b[0m | \u001b[36mmdpax.solvers.value_iteration\u001b[0m:\u001b[36msolve\u001b[0m:\u001b[36m525\u001b[0m - \u001b[32m\u001b[1mValue iteration completed\u001b[0m\n"
     ]
    }
   ],
   "source": [
    "# Run the solver for 10 iterations\n",
    "problem = FrozenLake(map_name=\"4x4\", is_slippery=True)\n",
    "solver = ValueIteration(problem, gamma=0.9, epsilon=1e-3, \n",
    "                        checkpoint_dir=\"initial_checkpoints\", \n",
    "                        checkpoint_frequency=1)\n",
    "solution = solver.solve(max_iterations = 10)"
   ]
  },
  {
   "cell_type": "code",
   "execution_count": 38,
   "metadata": {},
   "outputs": [
    {
     "name": "stderr",
     "output_type": "stream",
     "text": [
      "\u001b[32m2025-01-04 21:47:13.053\u001b[0m | \u001b[1mINFO    \u001b[0m | \u001b[36mmdpax.core.solver\u001b[0m:\u001b[36m__init__\u001b[0m:\u001b[36m159\u001b[0m - \u001b[1mSolver initialized with frozen_lake_4x4_slippery problem\u001b[0m\n",
      "\u001b[32m2025-01-04 21:47:13.089\u001b[0m | \u001b[1mINFO    \u001b[0m | \u001b[36mmdpax.utils.checkpointing\u001b[0m:\u001b[36m_setup_checkpointing\u001b[0m:\u001b[36m147\u001b[0m - \u001b[1mLightweight checkpointing enabled - problem and solver must be reconstructed manually\u001b[0m\n",
      "\u001b[32m2025-01-04 21:47:13.090\u001b[0m | \u001b[1mINFO    \u001b[0m | \u001b[36mmdpax.utils.checkpointing\u001b[0m:\u001b[36m_setup_checkpointing\u001b[0m:\u001b[36m152\u001b[0m - \u001b[1mSaving checkpoints every 1 iteration(s) to /home/joefarrington/other_learning/mdpax/examples/new_checkpoints\u001b[0m\n",
      "\u001b[32m2025-01-04 21:47:13.356\u001b[0m | \u001b[1mINFO    \u001b[0m | \u001b[36mmdpax.solvers.value_iteration\u001b[0m:\u001b[36msolve\u001b[0m:\u001b[36m497\u001b[0m - \u001b[1mIteration 11 span: 0.00806\u001b[0m\n",
      "\u001b[32m2025-01-04 21:47:13.376\u001b[0m | \u001b[1mINFO    \u001b[0m | \u001b[36mmdpax.solvers.value_iteration\u001b[0m:\u001b[36msolve\u001b[0m:\u001b[36m497\u001b[0m - \u001b[1mIteration 12 span: 0.00647\u001b[0m\n",
      "\u001b[32m2025-01-04 21:47:13.381\u001b[0m | \u001b[1mINFO    \u001b[0m | \u001b[36mmdpax.solvers.value_iteration\u001b[0m:\u001b[36msolve\u001b[0m:\u001b[36m497\u001b[0m - \u001b[1mIteration 13 span: 0.00547\u001b[0m\n",
      "\u001b[32m2025-01-04 21:47:13.385\u001b[0m | \u001b[1mINFO    \u001b[0m | \u001b[36mmdpax.solvers.value_iteration\u001b[0m:\u001b[36msolve\u001b[0m:\u001b[36m497\u001b[0m - \u001b[1mIteration 14 span: 0.00469\u001b[0m\n",
      "\u001b[32m2025-01-04 21:47:13.389\u001b[0m | \u001b[1mINFO    \u001b[0m | \u001b[36mmdpax.solvers.value_iteration\u001b[0m:\u001b[36msolve\u001b[0m:\u001b[36m497\u001b[0m - \u001b[1mIteration 15 span: 0.00399\u001b[0m\n",
      "\u001b[32m2025-01-04 21:47:13.393\u001b[0m | \u001b[1mINFO    \u001b[0m | \u001b[36mmdpax.solvers.value_iteration\u001b[0m:\u001b[36msolve\u001b[0m:\u001b[36m497\u001b[0m - \u001b[1mIteration 16 span: 0.00342\u001b[0m\n",
      "\u001b[32m2025-01-04 21:47:13.397\u001b[0m | \u001b[1mINFO    \u001b[0m | \u001b[36mmdpax.solvers.value_iteration\u001b[0m:\u001b[36msolve\u001b[0m:\u001b[36m497\u001b[0m - \u001b[1mIteration 17 span: 0.00304\u001b[0m\n",
      "\u001b[32m2025-01-04 21:47:13.399\u001b[0m | \u001b[1mINFO    \u001b[0m | \u001b[36mmdpax.solvers.value_iteration\u001b[0m:\u001b[36msolve\u001b[0m:\u001b[36m497\u001b[0m - \u001b[1mIteration 18 span: 0.00271\u001b[0m\n",
      "\u001b[32m2025-01-04 21:47:13.403\u001b[0m | \u001b[1mINFO    \u001b[0m | \u001b[36mmdpax.solvers.value_iteration\u001b[0m:\u001b[36msolve\u001b[0m:\u001b[36m497\u001b[0m - \u001b[1mIteration 19 span: 0.00244\u001b[0m\n",
      "\u001b[32m2025-01-04 21:47:13.408\u001b[0m | \u001b[1mINFO    \u001b[0m | \u001b[36mmdpax.solvers.value_iteration\u001b[0m:\u001b[36msolve\u001b[0m:\u001b[36m497\u001b[0m - \u001b[1mIteration 20 span: 0.00218\u001b[0m\n",
      "\u001b[32m2025-01-04 21:47:13.412\u001b[0m | \u001b[1mINFO    \u001b[0m | \u001b[36mmdpax.solvers.value_iteration\u001b[0m:\u001b[36msolve\u001b[0m:\u001b[36m497\u001b[0m - \u001b[1mIteration 21 span: 0.00193\u001b[0m\n",
      "\u001b[32m2025-01-04 21:47:13.416\u001b[0m | \u001b[1mINFO    \u001b[0m | \u001b[36mmdpax.solvers.value_iteration\u001b[0m:\u001b[36msolve\u001b[0m:\u001b[36m497\u001b[0m - \u001b[1mIteration 22 span: 0.00171\u001b[0m\n",
      "\u001b[32m2025-01-04 21:47:13.419\u001b[0m | \u001b[1mINFO    \u001b[0m | \u001b[36mmdpax.solvers.value_iteration\u001b[0m:\u001b[36msolve\u001b[0m:\u001b[36m497\u001b[0m - \u001b[1mIteration 23 span: 0.00152\u001b[0m\n",
      "\u001b[32m2025-01-04 21:47:13.423\u001b[0m | \u001b[1mINFO    \u001b[0m | \u001b[36mmdpax.solvers.value_iteration\u001b[0m:\u001b[36msolve\u001b[0m:\u001b[36m497\u001b[0m - \u001b[1mIteration 24 span: 0.00134\u001b[0m\n",
      "\u001b[32m2025-01-04 21:47:13.428\u001b[0m | \u001b[1mINFO    \u001b[0m | \u001b[36mmdpax.solvers.value_iteration\u001b[0m:\u001b[36msolve\u001b[0m:\u001b[36m497\u001b[0m - \u001b[1mIteration 25 span: 0.00118\u001b[0m\n",
      "\u001b[32m2025-01-04 21:47:13.434\u001b[0m | \u001b[1mINFO    \u001b[0m | \u001b[36mmdpax.solvers.value_iteration\u001b[0m:\u001b[36msolve\u001b[0m:\u001b[36m497\u001b[0m - \u001b[1mIteration 26 span: 0.00104\u001b[0m\n",
      "\u001b[32m2025-01-04 21:47:13.439\u001b[0m | \u001b[1mINFO    \u001b[0m | \u001b[36mmdpax.solvers.value_iteration\u001b[0m:\u001b[36msolve\u001b[0m:\u001b[36m497\u001b[0m - \u001b[1mIteration 27 span: 0.00091\u001b[0m\n",
      "\u001b[32m2025-01-04 21:47:13.442\u001b[0m | \u001b[1mINFO    \u001b[0m | \u001b[36mmdpax.solvers.value_iteration\u001b[0m:\u001b[36msolve\u001b[0m:\u001b[36m497\u001b[0m - \u001b[1mIteration 28 span: 0.00080\u001b[0m\n",
      "\u001b[32m2025-01-04 21:47:13.444\u001b[0m | \u001b[1mINFO    \u001b[0m | \u001b[36mmdpax.solvers.value_iteration\u001b[0m:\u001b[36msolve\u001b[0m:\u001b[36m497\u001b[0m - \u001b[1mIteration 29 span: 0.00070\u001b[0m\n",
      "\u001b[32m2025-01-04 21:47:13.448\u001b[0m | \u001b[1mINFO    \u001b[0m | \u001b[36mmdpax.solvers.value_iteration\u001b[0m:\u001b[36msolve\u001b[0m:\u001b[36m497\u001b[0m - \u001b[1mIteration 30 span: 0.00061\u001b[0m\n",
      "\u001b[32m2025-01-04 21:47:13.453\u001b[0m | \u001b[1mINFO    \u001b[0m | \u001b[36mmdpax.solvers.value_iteration\u001b[0m:\u001b[36msolve\u001b[0m:\u001b[36m497\u001b[0m - \u001b[1mIteration 31 span: 0.00054\u001b[0m\n",
      "\u001b[32m2025-01-04 21:47:13.457\u001b[0m | \u001b[1mINFO    \u001b[0m | \u001b[36mmdpax.solvers.value_iteration\u001b[0m:\u001b[36msolve\u001b[0m:\u001b[36m497\u001b[0m - \u001b[1mIteration 32 span: 0.00047\u001b[0m\n",
      "\u001b[32m2025-01-04 21:47:13.460\u001b[0m | \u001b[1mINFO    \u001b[0m | \u001b[36mmdpax.solvers.value_iteration\u001b[0m:\u001b[36msolve\u001b[0m:\u001b[36m497\u001b[0m - \u001b[1mIteration 33 span: 0.00041\u001b[0m\n",
      "\u001b[32m2025-01-04 21:47:13.463\u001b[0m | \u001b[1mINFO    \u001b[0m | \u001b[36mmdpax.solvers.value_iteration\u001b[0m:\u001b[36msolve\u001b[0m:\u001b[36m497\u001b[0m - \u001b[1mIteration 34 span: 0.00036\u001b[0m\n",
      "\u001b[32m2025-01-04 21:47:13.469\u001b[0m | \u001b[1mINFO    \u001b[0m | \u001b[36mmdpax.solvers.value_iteration\u001b[0m:\u001b[36msolve\u001b[0m:\u001b[36m497\u001b[0m - \u001b[1mIteration 35 span: 0.00031\u001b[0m\n",
      "\u001b[32m2025-01-04 21:47:13.473\u001b[0m | \u001b[1mINFO    \u001b[0m | \u001b[36mmdpax.solvers.value_iteration\u001b[0m:\u001b[36msolve\u001b[0m:\u001b[36m497\u001b[0m - \u001b[1mIteration 36 span: 0.00027\u001b[0m\n",
      "\u001b[32m2025-01-04 21:47:13.476\u001b[0m | \u001b[1mINFO    \u001b[0m | \u001b[36mmdpax.solvers.value_iteration\u001b[0m:\u001b[36msolve\u001b[0m:\u001b[36m497\u001b[0m - \u001b[1mIteration 37 span: 0.00024\u001b[0m\n",
      "\u001b[32m2025-01-04 21:47:13.481\u001b[0m | \u001b[1mINFO    \u001b[0m | \u001b[36mmdpax.solvers.value_iteration\u001b[0m:\u001b[36msolve\u001b[0m:\u001b[36m497\u001b[0m - \u001b[1mIteration 38 span: 0.00021\u001b[0m\n",
      "\u001b[32m2025-01-04 21:47:13.486\u001b[0m | \u001b[1mINFO    \u001b[0m | \u001b[36mmdpax.solvers.value_iteration\u001b[0m:\u001b[36msolve\u001b[0m:\u001b[36m497\u001b[0m - \u001b[1mIteration 39 span: 0.00018\u001b[0m\n",
      "\u001b[32m2025-01-04 21:47:13.491\u001b[0m | \u001b[1mINFO    \u001b[0m | \u001b[36mmdpax.solvers.value_iteration\u001b[0m:\u001b[36msolve\u001b[0m:\u001b[36m497\u001b[0m - \u001b[1mIteration 40 span: 0.00016\u001b[0m\n",
      "\u001b[32m2025-01-04 21:47:13.495\u001b[0m | \u001b[1mINFO    \u001b[0m | \u001b[36mmdpax.solvers.value_iteration\u001b[0m:\u001b[36msolve\u001b[0m:\u001b[36m497\u001b[0m - \u001b[1mIteration 41 span: 0.00014\u001b[0m\n",
      "\u001b[32m2025-01-04 21:47:13.498\u001b[0m | \u001b[1mINFO    \u001b[0m | \u001b[36mmdpax.solvers.value_iteration\u001b[0m:\u001b[36msolve\u001b[0m:\u001b[36m497\u001b[0m - \u001b[1mIteration 42 span: 0.00012\u001b[0m\n",
      "\u001b[32m2025-01-04 21:47:13.501\u001b[0m | \u001b[1mINFO    \u001b[0m | \u001b[36mmdpax.solvers.value_iteration\u001b[0m:\u001b[36msolve\u001b[0m:\u001b[36m497\u001b[0m - \u001b[1mIteration 43 span: 0.00011\u001b[0m\n",
      "\u001b[32m2025-01-04 21:47:13.503\u001b[0m | \u001b[1mINFO    \u001b[0m | \u001b[36mmdpax.solvers.value_iteration\u001b[0m:\u001b[36msolve\u001b[0m:\u001b[36m502\u001b[0m - \u001b[1mConvergence threshold reached at iteration 43\u001b[0m\n",
      "\u001b[32m2025-01-04 21:47:13.504\u001b[0m | \u001b[1mINFO    \u001b[0m | \u001b[36mmdpax.solvers.value_iteration\u001b[0m:\u001b[36msolve\u001b[0m:\u001b[36m521\u001b[0m - \u001b[1mExtracting policy\u001b[0m\n",
      "\u001b[32m2025-01-04 21:47:13.702\u001b[0m | \u001b[1mINFO    \u001b[0m | \u001b[36mmdpax.solvers.value_iteration\u001b[0m:\u001b[36msolve\u001b[0m:\u001b[36m523\u001b[0m - \u001b[1mPolicy extracted\u001b[0m\n",
      "\u001b[32m2025-01-04 21:47:13.703\u001b[0m | \u001b[32m\u001b[1mSUCCESS \u001b[0m | \u001b[36mmdpax.solvers.value_iteration\u001b[0m:\u001b[36msolve\u001b[0m:\u001b[36m525\u001b[0m - \u001b[32m\u001b[1mValue iteration completed\u001b[0m\n"
     ]
    }
   ],
   "source": [
    "# load in the checkpoint and resume\n",
    "problem_restored = FrozenLake(map_name=\"4x4\", is_slippery=True)\n",
    "solver_restored = ValueIteration(problem_restored, gamma=0.9, epsilon=1e-3, \n",
    "                                 checkpoint_dir=\"new_checkpoints\", \n",
    "                                 checkpoint_frequency=1)\n",
    "solver_restored.load_checkpoint(checkpoint_dir=\"initial_checkpoints\")\n",
    "solution_restored = solver_restored.solve(max_iterations = 100)"
   ]
  },
  {
   "cell_type": "code",
   "execution_count": 39,
   "metadata": {},
   "outputs": [
    {
     "data": {
      "image/png": "[encoded data removed]",
      "text/plain": [
       "<Figure size 800x800 with 1 Axes>"
      ]
     },
     "metadata": {},
     "output_type": "display_data"
    }
   ],
   "source": [
    "plot_policy(problem_restored, solution_restored.policy)"
   ]
  },
  {
   "cell_type": "markdown",
   "metadata": {},
   "source": [
    "The plot shows the same policy as when we solved the same problem uninterrupted.\n",
    "\n",
    "See [LINK TO FOREST] for a simple example of a problem defined in a module with a Hydra configuration."
   ]
  },
  {
   "cell_type": "markdown",
   "metadata": {
    "id": "next_steps"
   },
   "source": [
    "## Next Steps\n",
    "\n",
    "Try modifying the problem:\n",
    "1. Create custom maps with different layouts\n",
    "2. Modify the reward structure (e.g., small negative reward for each step)\n",
    "3. Add new features like varying slipperiness or wind effects\n",
    "\n",
    "For more examples and documentation:\n",
    "- [MDPax Documentation](link)\n",
    "- [Original FrozenLake Environment](https://www.gymlibrary.dev/environments/toy_text/frozen_lake/)"
   ]
  }
 ],
 "metadata": {
  "colab": {
   "name": "frozen_lake.ipynb",
   "provenance": [],
   "toc_visible": true
  },
  "kernelspec": {
   "display_name": "Python 3",
   "name": "python3"
  },
  "language_info": {
   "codemirror_mode": {
    "name": "ipython",
    "version": 3
   },
   "file_extension": ".py",
   "mimetype": "text/x-python",
   "name": "python",
   "nbconvert_exporter": "python",
   "pygments_lexer": "ipython3",
   "version": "3.12.4"
  }
 },
 "nbformat": 4,
 "nbformat_minor": 2
}
